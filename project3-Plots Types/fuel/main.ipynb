{
 "cells": [
  {
   "cell_type": "code",
   "execution_count": 2,
   "metadata": {},
   "outputs": [],
   "source": [
    "# prerequisite package imports\n",
    "import numpy as np\n",
    "import pandas as pd\n",
    "import matplotlib.pyplot as plt\n",
    "import seaborn as sb\n",
    "\n",
    "%matplotlib inline\n"
   ]
  },
  {
   "cell_type": "code",
   "execution_count": 3,
   "metadata": {
    "pycharm": {
     "name": "#%%\n"
    }
   },
   "outputs": [
    {
     "data": {
      "text/html": [
       "<div>\n",
       "<style scoped>\n",
       "    .dataframe tbody tr th:only-of-type {\n",
       "        vertical-align: middle;\n",
       "    }\n",
       "\n",
       "    .dataframe tbody tr th {\n",
       "        vertical-align: top;\n",
       "    }\n",
       "\n",
       "    .dataframe thead th {\n",
       "        text-align: right;\n",
       "    }\n",
       "</style>\n",
       "<table border=\"1\" class=\"dataframe\">\n",
       "  <thead>\n",
       "    <tr style=\"text-align: right;\">\n",
       "      <th></th>\n",
       "      <th>id</th>\n",
       "      <th>make</th>\n",
       "      <th>model</th>\n",
       "      <th>year</th>\n",
       "      <th>VClass</th>\n",
       "      <th>drive</th>\n",
       "      <th>trans</th>\n",
       "      <th>fuelType</th>\n",
       "      <th>cylinders</th>\n",
       "      <th>displ</th>\n",
       "      <th>pv2</th>\n",
       "      <th>pv4</th>\n",
       "      <th>city</th>\n",
       "      <th>UCity</th>\n",
       "      <th>highway</th>\n",
       "      <th>UHighway</th>\n",
       "      <th>comb</th>\n",
       "      <th>co2</th>\n",
       "      <th>feScore</th>\n",
       "      <th>ghgScore</th>\n",
       "    </tr>\n",
       "  </thead>\n",
       "  <tbody>\n",
       "    <tr>\n",
       "      <th>0</th>\n",
       "      <td>32204</td>\n",
       "      <td>Nissan</td>\n",
       "      <td>GT-R</td>\n",
       "      <td>2013</td>\n",
       "      <td>Subcompact Cars</td>\n",
       "      <td>All-Wheel Drive</td>\n",
       "      <td>Automatic (AM6)</td>\n",
       "      <td>Premium Gasoline</td>\n",
       "      <td>6</td>\n",
       "      <td>3.8</td>\n",
       "      <td>79</td>\n",
       "      <td>0</td>\n",
       "      <td>16.4596</td>\n",
       "      <td>20.2988</td>\n",
       "      <td>22.5568</td>\n",
       "      <td>30.1798</td>\n",
       "      <td>18.7389</td>\n",
       "      <td>471</td>\n",
       "      <td>4</td>\n",
       "      <td>4</td>\n",
       "    </tr>\n",
       "    <tr>\n",
       "      <th>1</th>\n",
       "      <td>32205</td>\n",
       "      <td>Volkswagen</td>\n",
       "      <td>CC</td>\n",
       "      <td>2013</td>\n",
       "      <td>Compact Cars</td>\n",
       "      <td>Front-Wheel Drive</td>\n",
       "      <td>Automatic (AM-S6)</td>\n",
       "      <td>Premium Gasoline</td>\n",
       "      <td>4</td>\n",
       "      <td>2.0</td>\n",
       "      <td>94</td>\n",
       "      <td>0</td>\n",
       "      <td>21.8706</td>\n",
       "      <td>26.9770</td>\n",
       "      <td>31.0367</td>\n",
       "      <td>42.4936</td>\n",
       "      <td>25.2227</td>\n",
       "      <td>349</td>\n",
       "      <td>6</td>\n",
       "      <td>6</td>\n",
       "    </tr>\n",
       "    <tr>\n",
       "      <th>2</th>\n",
       "      <td>32206</td>\n",
       "      <td>Volkswagen</td>\n",
       "      <td>CC</td>\n",
       "      <td>2013</td>\n",
       "      <td>Compact Cars</td>\n",
       "      <td>Front-Wheel Drive</td>\n",
       "      <td>Automatic (S6)</td>\n",
       "      <td>Premium Gasoline</td>\n",
       "      <td>6</td>\n",
       "      <td>3.6</td>\n",
       "      <td>94</td>\n",
       "      <td>0</td>\n",
       "      <td>17.4935</td>\n",
       "      <td>21.2000</td>\n",
       "      <td>26.5716</td>\n",
       "      <td>35.1000</td>\n",
       "      <td>20.6716</td>\n",
       "      <td>429</td>\n",
       "      <td>5</td>\n",
       "      <td>5</td>\n",
       "    </tr>\n",
       "    <tr>\n",
       "      <th>3</th>\n",
       "      <td>32207</td>\n",
       "      <td>Volkswagen</td>\n",
       "      <td>CC 4motion</td>\n",
       "      <td>2013</td>\n",
       "      <td>Compact Cars</td>\n",
       "      <td>All-Wheel Drive</td>\n",
       "      <td>Automatic (S6)</td>\n",
       "      <td>Premium Gasoline</td>\n",
       "      <td>6</td>\n",
       "      <td>3.6</td>\n",
       "      <td>94</td>\n",
       "      <td>0</td>\n",
       "      <td>16.9415</td>\n",
       "      <td>20.5000</td>\n",
       "      <td>25.2190</td>\n",
       "      <td>33.5000</td>\n",
       "      <td>19.8774</td>\n",
       "      <td>446</td>\n",
       "      <td>5</td>\n",
       "      <td>5</td>\n",
       "    </tr>\n",
       "    <tr>\n",
       "      <th>4</th>\n",
       "      <td>32208</td>\n",
       "      <td>Chevrolet</td>\n",
       "      <td>Malibu eAssist</td>\n",
       "      <td>2013</td>\n",
       "      <td>Midsize Cars</td>\n",
       "      <td>Front-Wheel Drive</td>\n",
       "      <td>Automatic (S6)</td>\n",
       "      <td>Regular Gasoline</td>\n",
       "      <td>4</td>\n",
       "      <td>2.4</td>\n",
       "      <td>0</td>\n",
       "      <td>95</td>\n",
       "      <td>24.7726</td>\n",
       "      <td>31.9796</td>\n",
       "      <td>35.5340</td>\n",
       "      <td>51.8816</td>\n",
       "      <td>28.6813</td>\n",
       "      <td>310</td>\n",
       "      <td>8</td>\n",
       "      <td>8</td>\n",
       "    </tr>\n",
       "  </tbody>\n",
       "</table>\n",
       "</div>"
      ],
      "text/plain": [
       "      id        make           model  year           VClass  \\\n",
       "0  32204      Nissan            GT-R  2013  Subcompact Cars   \n",
       "1  32205  Volkswagen              CC  2013     Compact Cars   \n",
       "2  32206  Volkswagen              CC  2013     Compact Cars   \n",
       "3  32207  Volkswagen      CC 4motion  2013     Compact Cars   \n",
       "4  32208   Chevrolet  Malibu eAssist  2013     Midsize Cars   \n",
       "\n",
       "               drive              trans          fuelType  cylinders  displ  \\\n",
       "0    All-Wheel Drive    Automatic (AM6)  Premium Gasoline          6    3.8   \n",
       "1  Front-Wheel Drive  Automatic (AM-S6)  Premium Gasoline          4    2.0   \n",
       "2  Front-Wheel Drive     Automatic (S6)  Premium Gasoline          6    3.6   \n",
       "3    All-Wheel Drive     Automatic (S6)  Premium Gasoline          6    3.6   \n",
       "4  Front-Wheel Drive     Automatic (S6)  Regular Gasoline          4    2.4   \n",
       "\n",
       "   pv2  pv4     city    UCity  highway  UHighway     comb  co2  feScore  \\\n",
       "0   79    0  16.4596  20.2988  22.5568   30.1798  18.7389  471        4   \n",
       "1   94    0  21.8706  26.9770  31.0367   42.4936  25.2227  349        6   \n",
       "2   94    0  17.4935  21.2000  26.5716   35.1000  20.6716  429        5   \n",
       "3   94    0  16.9415  20.5000  25.2190   33.5000  19.8774  446        5   \n",
       "4    0   95  24.7726  31.9796  35.5340   51.8816  28.6813  310        8   \n",
       "\n",
       "   ghgScore  \n",
       "0         4  \n",
       "1         6  \n",
       "2         5  \n",
       "3         5  \n",
       "4         8  "
      ]
     },
     "execution_count": 3,
     "metadata": {},
     "output_type": "execute_result"
    }
   ],
   "source": [
    "df = pd.read_csv('./fuel_econ.csv')\n",
    "df.head()"
   ]
  },
  {
   "cell_type": "markdown",
   "metadata": {},
   "source": [
    "# Task 1\n",
    "lot the city ('city') vs\n",
    "- highway ('highway') \n",
    "- fuel efficiencies (both in mpg) \n",
    "- for each vehicle class ('VClass'). \n",
    "\n",
    "Don't forget that vehicle class is an ordinal variable with levels {Minicompact Cars, Subcompact Cars, Compact Cars, Midsize Cars, Large Cars}."
   ]
  },
  {
   "cell_type": "code",
   "execution_count": 4,
   "metadata": {},
   "outputs": [],
   "source": [
    "# import pandas_profiling as pp\n",
    "# pp.ProfileReport(df)"
   ]
  },
  {
   "cell_type": "code",
   "execution_count": 5,
   "metadata": {},
   "outputs": [
    {
     "name": "stdout",
     "output_type": "stream",
     "text": [
      "<class 'pandas.core.frame.DataFrame'>\n",
      "RangeIndex: 3929 entries, 0 to 3928\n",
      "Data columns (total 20 columns):\n",
      " #   Column     Non-Null Count  Dtype  \n",
      "---  ------     --------------  -----  \n",
      " 0   id         3929 non-null   int64  \n",
      " 1   make       3929 non-null   object \n",
      " 2   model      3929 non-null   object \n",
      " 3   year       3929 non-null   int64  \n",
      " 4   VClass     3929 non-null   object \n",
      " 5   drive      3929 non-null   object \n",
      " 6   trans      3929 non-null   object \n",
      " 7   fuelType   3929 non-null   object \n",
      " 8   cylinders  3929 non-null   int64  \n",
      " 9   displ      3929 non-null   float64\n",
      " 10  pv2        3929 non-null   int64  \n",
      " 11  pv4        3929 non-null   int64  \n",
      " 12  city       3929 non-null   float64\n",
      " 13  UCity      3929 non-null   float64\n",
      " 14  highway    3929 non-null   float64\n",
      " 15  UHighway   3929 non-null   float64\n",
      " 16  comb       3929 non-null   float64\n",
      " 17  co2        3929 non-null   int64  \n",
      " 18  feScore    3929 non-null   int64  \n",
      " 19  ghgScore   3929 non-null   int64  \n",
      "dtypes: float64(6), int64(8), object(6)\n",
      "memory usage: 614.0+ KB\n"
     ]
    }
   ],
   "source": [
    "df.info()"
   ]
  },
  {
   "cell_type": "code",
   "execution_count": 16,
   "metadata": {},
   "outputs": [
    {
     "name": "stderr",
     "output_type": "stream",
     "text": [
      "C:\\Users\\el_ghizi_yassine\\Desktop\\data-analytics-projects\\venv\\lib\\site-packages\\seaborn\\axisgrid.py:337: UserWarning: The `size` parameter has been renamed to `height`; please update your code.\n",
      "  warnings.warn(msg, UserWarning)\n"
     ]
    },
    {
     "data": {
      "text/plain": [
       "<seaborn.axisgrid.FacetGrid at 0x200ca181fa0>"
      ]
     },
     "execution_count": 16,
     "metadata": {},
     "output_type": "execute_result"
    },
    {
     "data": {
      "image/png": "[encoded data removed]",
      "text/plain": [
       "<Figure size 656x216 with 3 Axes>"
      ]
     },
     "metadata": {
      "needs_background": "light"
     },
     "output_type": "display_data"
    }
   ],
   "source": [
    "# data point is highly overlapping, so choose faceting \n",
    "df['new_emiss'] = df['co2'] * df['comb'] \n",
    "fuel_econ_sub = df.loc[df['fuelType'].isin(['Premium Gasoline','Regular Gasoline','Diesel'])]\n",
    "\n",
    "g = sb.FacetGrid(data = fuel_econ_sub, size = 3 , col = 'fuelType', col_wrap = 3)\n",
    "g = g.map(plt.scatter , 'new_emiss','displ',alpha=0.04)\n",
    "g.add_legend()\n",
    "g.set_ylabels('Engine displacement (l)')\n",
    "g.set_xlabels('CO2 (g/gal)')\n",
    "# #g.set_titles('{col_name}')    # add_legend can achieve same function"
   ]
  },
  {
   "cell_type": "markdown",
   "metadata": {},
   "source": [
    "- Bigger Engings uses Premuim gasoline \n",
    "- Most cars have an emissions band of 9 kg CO2 per gallon\n",
    "- Diesel cars have a 10 kg CO2 per gallon."
   ]
  },
  {
   "cell_type": "code",
   "execution_count": null,
   "metadata": {},
   "outputs": [],
   "source": []
  }
 ],
 "metadata": {
  "kernelspec": {
   "display_name": "Python 3 (ipykernel)",
   "language": "python",
   "name": "python3"
  },
  "language_info": {
   "codemirror_mode": {
    "name": "ipython",
    "version": 3
   },
   "file_extension": ".py",
   "mimetype": "text/x-python",
   "name": "python",
   "nbconvert_exporter": "python",
   "pygments_lexer": "ipython3",
   "version": "3.9.7"
  }
 },
 "nbformat": 4,
 "nbformat_minor": 1
}